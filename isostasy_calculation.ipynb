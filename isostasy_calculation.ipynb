{
 "cells": [
  {
   "cell_type": "code",
   "execution_count": 1,
   "metadata": {},
   "outputs": [],
   "source": [
    "import math\n",
    "import numpy as np\n",
    "import scipy.integrate as integrate\n",
    "import matplotlib.pyplot as plt"
   ]
  },
  {
   "cell_type": "markdown",
   "metadata": {},
   "source": [
    "### Assumptions"
   ]
  },
  {
   "cell_type": "code",
   "execution_count": 21,
   "metadata": {},
   "outputs": [],
   "source": [
    "rho_w = 1000 # density of water [kg/m^3]\n",
    "\n",
    "rho_cc = 2850 # density of continental crust [kg/m^3]\n",
    "rho_cm = 3338 # density of continental lithospheric mantle [kg/m^3]\n",
    "cc = 35000 # thickness of continental crust layer \n",
    "cm = 200000 # thickness of continental  mantle\n",
    "\n",
    "rho_oc = 2900 # density of oceanic crust\n",
    "rho_om = 3300 # density of depleted oceanic lithospheric mantle\n",
    "oc = 7000 # thickness of oceanic crust layer \n",
    "om = 50000 # thickness of depleted oceanic lithospheric mantle\n",
    "\n",
    "rho_m = 3300 # density of asthenospheric mantle\n",
    "compensation_depth = cc + cm # compensation depth\n",
    "m = compensation_depth - oc - om # thickness of the asthenospheric mantle [m]\n",
    "\n",
    "g = 9.81\n",
    "\n",
    "initial_depth = 0\n",
    "depth_increment = 1000\n",
    "final_depth = compensation_depth+depth_increment\n",
    "z = np.array(range(initial_depth,final_depth,depth_increment)) # depth [m]"
   ]
  },
  {
   "cell_type": "markdown",
   "metadata": {},
   "source": [
    "## Lithostatic pressure for the continental lithosphere\n",
    "$$P = \\int_{a}^{b} \\rho(z) g dz$$"
   ]
  },
  {
   "cell_type": "code",
   "execution_count": 22,
   "metadata": {},
   "outputs": [],
   "source": [
    "# w: depth of water layer\n",
    "# cc: thickness of continental crust\n",
    "def calc_pressure_continent(z, w, c):\n",
    "    P = np.array([0]*len(z))\n",
    "    for i, val in enumerate(z):\n",
    "        if abs(val) <= w:\n",
    "            # integrate the density over the water layer\n",
    "            y, err = integrate.quad(lambda z: rho_w*g,0,val)\n",
    "        elif w < abs(val) <= w + c:\n",
    "            #print(y/1e6)\n",
    "            # integrate the density over the crustal layer,\n",
    "            # plus the total pressure from the water layer\n",
    "            y, err = integrate.quad(lambda z: rho_cc*g,w,val)\n",
    "            y+= rho_w*g*w\n",
    "        elif w + c <= abs(val) <= w + c + cm:\n",
    "            # integrate the density over the continental lithospheric mantle layer,\n",
    "            # plus the total pressure from the water + crustal layer\n",
    "            y, err = integrate.quad(lambda z: rho_cm*g,w+c,val)\n",
    "            y+= rho_w*g*w + rho_cc*g*c\n",
    "        else:\n",
    "            # integrate the density over the mantle layer,\n",
    "            # plus the total pressure from the water + crustal + cm layer\n",
    "            y, err = integrate.quad(lambda z: rho_m*g,w+c+cm,val)\n",
    "            y+= rho_w*g*w + rho_cc*g*c + rho_cm*g*cm\n",
    "        P[i] = y/1e6\n",
    "    return P"
   ]
  },
  {
   "cell_type": "markdown",
   "metadata": {},
   "source": [
    "First, I vary the thickness of the continental crust between 30 to 50 km. I assume that everything is under water, with a water layer of 2 km."
   ]
  },
  {
   "cell_type": "code",
   "execution_count": 23,
   "metadata": {},
   "outputs": [
    {
     "data": {
      "image/png": "[encoded data removed]",
      "text/plain": [
       "<Figure size 432x288 with 1 Axes>"
      ]
     },
     "metadata": {
      "needs_background": "light"
     },
     "output_type": "display_data"
    }
   ],
   "source": [
    "cc_range = list(range(30000,60000,10000))\n",
    "w_A = 2000 # thickness of water layer [m]\n",
    "plt.figure(2)\n",
    "for i in cc_range:\n",
    "        P = calc_pressure_continent(z, w_A, i)\n",
    "        plt.plot(P,[-j/1000 for j in z])\n",
    "plt.ylim((-50,0))\n",
    "plt.xlim((0,1800))\n",
    "plt.xlabel('Lithostatic pressure [MPa]')\n",
    "plt.ylabel('Depth [km]')\n",
    "plt.show()"
   ]
  },
  {
   "cell_type": "markdown",
   "metadata": {},
   "source": [
    "Blue = 30 km\n",
    "\n",
    "Orange = 40 km\n",
    "\n",
    "Green = 50 km\n",
    "\n",
    "Doesn't look like there's much difference???"
   ]
  },
  {
   "cell_type": "markdown",
   "metadata": {},
   "source": [
    "## Lithostatic pressure for the oceanic lithosphere"
   ]
  },
  {
   "cell_type": "code",
   "execution_count": 5,
   "metadata": {},
   "outputs": [],
   "source": [
    "def calc_pressure_ocean(z,w,c):\n",
    "    P = np.array([0]*len(z))\n",
    "    for i, val in enumerate(z):\n",
    "        if abs(val) <= w:\n",
    "            y, err = integrate.quad(lambda z: rho_w*g,0,val)\n",
    "        elif w < abs(val) <= w+c:\n",
    "            y, err = integrate.quad(lambda z: rho_oc*g,w,val)\n",
    "            y+= rho_w*g*w\n",
    "        elif w+oc < abs(val) <= w+c+om:\n",
    "            y, err = integrate.quad(lambda z: rho_om*g,w+c,val)\n",
    "            y+= rho_w*g*w + rho_oc*g*c\n",
    "        else:\n",
    "            y, err = integrate.quad(lambda z: rho_m*g,w+om+c,val)\n",
    "            y+= rho_w*g*w + rho_oc*g*c + rho_om*g*om\n",
    "        P[i] = y/1e6\n",
    "    return P"
   ]
  },
  {
   "cell_type": "code",
   "execution_count": 18,
   "metadata": {},
   "outputs": [],
   "source": [
    "w_B = 5000 # thickness of water layer [m]"
   ]
  },
  {
   "cell_type": "markdown",
   "metadata": {},
   "source": [
    "For the oceanic layer, I assume that there is 5 km of water above."
   ]
  },
  {
   "cell_type": "code",
   "execution_count": 6,
   "metadata": {},
   "outputs": [
    {
     "data": {
      "image/png": "[encoded data removed]",
      "text/plain": [
       "<Figure size 432x288 with 1 Axes>"
      ]
     },
     "metadata": {
      "needs_background": "light"
     },
     "output_type": "display_data"
    }
   ],
   "source": [
    "P_B = calc_pressure_ocean(z,w_B,oc)\n",
    "plt.figure(3)\n",
    "plt.plot(P_B,[-i/1000 for i in z],'b-')\n",
    "\n",
    "plt.plot(P_B, [-(w_B)/1000]*len(z),'k--')\n",
    "plt.plot(P_B, [-(oc+w_B)/1000]*len(z),'k--')\n",
    "plt.plot(P_B, [-(oc+w_B+om)/1000]*len(z),'k--')\n",
    "plt.plot(P_B, [-(oc+w_B+om+m)/1000]*len(z),'k--')\n",
    "\n",
    "#plt.ylim((-100,0))\n",
    "#plt.xlim((0,5000))\n",
    "plt.xlabel('Lithostatic pressure [MPa]')\n",
    "plt.ylabel('Depth [km]')\n",
    "plt.show()"
   ]
  },
  {
   "cell_type": "markdown",
   "metadata": {},
   "source": [
    "The uppermost dashed line is where the oceanic crust begins. The second dashed line is where the depleted oceanic lithospheric mantle begins, and the third dashed line is where the asthenospheric mantle begins."
   ]
  },
  {
   "cell_type": "markdown",
   "metadata": {},
   "source": [
    "### Measuring the pressure difference\n",
    "Assuming a crustal depth of 35 km, I compare the lithostatic pressure for the continental and oceanic lithosphere on the same plot."
   ]
  },
  {
   "cell_type": "code",
   "execution_count": 7,
   "metadata": {},
   "outputs": [
    {
     "data": {
      "image/png": "[encoded data removed]",
      "text/plain": [
       "<Figure size 432x288 with 1 Axes>"
      ]
     },
     "metadata": {
      "needs_background": "light"
     },
     "output_type": "display_data"
    }
   ],
   "source": [
    "P_A = calc_pressure_continent(z, w_A, cc)\n",
    "P_B = calc_pressure_ocean(z, w_B, oc)\n",
    "plt.figure(4)\n",
    "plt.plot(P_A,[-j/1000 for j in z],'r')\n",
    "plt.plot(P_B,[-j/1000 for j in z],'b')\n",
    "plt.xlabel('Lithostatic pressure [MPa]')\n",
    "plt.ylabel('Depth [km]')\n",
    "plt.show()"
   ]
  },
  {
   "cell_type": "markdown",
   "metadata": {},
   "source": [
    "Red is continental, blue is oceanic.\n",
    "Zooming in..."
   ]
  },
  {
   "cell_type": "code",
   "execution_count": 8,
   "metadata": {},
   "outputs": [
    {
     "data": {
      "image/png": "[encoded data removed]",
      "text/plain": [
       "<Figure size 432x288 with 1 Axes>"
      ]
     },
     "metadata": {
      "needs_background": "light"
     },
     "output_type": "display_data"
    },
    {
     "data": {
      "text/plain": [
       "54"
      ]
     },
     "execution_count": 8,
     "metadata": {},
     "output_type": "execute_result"
    }
   ],
   "source": [
    "plt.plot(P_A,[-j/1000 for j in z],'r')\n",
    "plt.plot(P_B,[-j/1000 for j in z],'b')\n",
    "plt.plot(P_A-P_B,[-j/1000 for j in z],'k--')\n",
    "plt.xlim((0,800))\n",
    "plt.ylim((-25,0))\n",
    "plt.xlabel('Lithostatic pressure [MPa]')\n",
    "plt.ylabel('Depth [km]')\n",
    "plt.show()\n",
    "np.amax(P_A-P_B)"
   ]
  },
  {
   "cell_type": "markdown",
   "metadata": {},
   "source": [
    "Dotted black line is the pressure difference.\n",
    "\n",
    "In the upper crust, the maximum pressure difference is 54 MPa. Not sure what is happening beneath the comensation depth. (pressure not supported beneath the compensation depth???)"
   ]
  },
  {
   "cell_type": "code",
   "execution_count": 9,
   "metadata": {},
   "outputs": [
    {
     "data": {
      "text/plain": [
       "23"
      ]
     },
     "execution_count": 9,
     "metadata": {},
     "output_type": "execute_result"
    }
   ],
   "source": [
    "P_diff = P_A - P_B\n",
    "comp_depth = np.where(P_diff == np.min(P_diff[P_diff > 0]))\n",
    "int(comp_depth[0])"
   ]
  },
  {
   "cell_type": "markdown",
   "metadata": {},
   "source": [
    "If the compensation depth is defined as where $P_{continental} = P_{oceanic}$, then it is ~23 km in this case."
   ]
  },
  {
   "cell_type": "markdown",
   "metadata": {},
   "source": [
    "## Isostatic balancing\n",
    "Isostatic balance equation (assume sea level = 0):\n",
    "\n",
    "$$\\rho_w w_B + \\rho_{oc} d_{oc} + \\rho_{om} d_{om} + \\rho_m d_m = \\rho_w w_A + \\rho_{cc} d_{cc} + \\rho_{cm} d_{cm}$$"
   ]
  },
  {
   "cell_type": "markdown",
   "metadata": {},
   "source": [
    "where $\\rho$ is the density of water, oceanic crust, (depleted) oceanic mantle, (asthenospheric) mantle, continental crust, etc.\n",
    "\n",
    "$w_B$ is the thickness of the water layer above the oceanic lithosphere, and $w_A$ is the thickness of the water layer above the continental lithosphere.\n",
    "\n",
    "$d$ is the thickness of the oceanic crust, continental crust, etc.\n",
    "\n",
    "The compensation depth is taken as the base of the continental lithospheric mantle, which determines the depth of the asthenospheric manle ($d_m$)."
   ]
  },
  {
   "cell_type": "markdown",
   "metadata": {},
   "source": [
    "Solving for the thickness of the continental crust assuming that the oceanic lithosphere is 5 km under water and the continental lithosphere is 2 km under water."
   ]
  },
  {
   "cell_type": "code",
   "execution_count": 10,
   "metadata": {},
   "outputs": [
    {
     "name": "stdout",
     "output_type": "stream",
     "text": [
      "109.05263157894737\n"
     ]
    }
   ],
   "source": [
    "cc_calc = (rho_w*w_B + rho_oc*oc + rho_om*om + rho_m*(m-w_B) - rho_w*w_A - rho_cm*cm)/rho_cc\n",
    "print(cc_calc/1000)"
   ]
  },
  {
   "cell_type": "markdown",
   "metadata": {},
   "source": [
    "This says continental crust should be 109 km??? That's so thick??????"
   ]
  },
  {
   "cell_type": "markdown",
   "metadata": {},
   "source": [
    "Anyway, assuming this is correct... I check to see if P_A = P_B at the base of the continental lithospheric mantle when the crustal thickness is 117 km."
   ]
  },
  {
   "cell_type": "code",
   "execution_count": 11,
   "metadata": {},
   "outputs": [
    {
     "data": {
      "image/png": "[encoded data removed]",
      "text/plain": [
       "<Figure size 432x288 with 1 Axes>"
      ]
     },
     "metadata": {
      "needs_background": "light"
     },
     "output_type": "display_data"
    }
   ],
   "source": [
    "P_A = calc_pressure_continent(z, w_A, cc_calc)\n",
    "P_B = calc_pressure_ocean(z, w_B, oc)\n",
    "plt.plot(P_A,[-j/1000 for j in z],'r')\n",
    "plt.plot(P_B,[-j/1000 for j in z],'b')\n",
    "plt.xlabel('Lithostatic pressure [MPa]')\n",
    "plt.ylabel('Depth [km]')\n",
    "plt.show()"
   ]
  },
  {
   "cell_type": "code",
   "execution_count": 12,
   "metadata": {},
   "outputs": [
    {
     "data": {
      "text/plain": [
       "9621.648"
      ]
     },
     "execution_count": 12,
     "metadata": {},
     "output_type": "execute_result"
    }
   ],
   "source": [
    "(rho_w*g*w_B + rho_oc*g*oc + rho_om*g*om + rho_m*g*m)/1e6"
   ]
  },
  {
   "cell_type": "code",
   "execution_count": 13,
   "metadata": {},
   "outputs": [
    {
     "data": {
      "text/plain": [
       "9621.648"
      ]
     },
     "execution_count": 13,
     "metadata": {},
     "output_type": "execute_result"
    }
   ],
   "source": [
    "(rho_w*g*w_A + rho_cc*g*cc_calc + rho_cm*g*cm)/1e6"
   ]
  },
  {
   "cell_type": "code",
   "execution_count": 14,
   "metadata": {},
   "outputs": [
    {
     "data": {
      "text/plain": [
       "array([   0,    9,   19,   47,   75,  103,  131,  159,  187,  215,  243,\n",
       "        271,  299,  327,  355,  383,  411,  438,  466,  494,  522,  550,\n",
       "        578,  606,  634,  662,  690,  718,  746,  774,  802,  830,  858,\n",
       "        886,  914,  942,  970,  998, 1026, 1054, 1082, 1110, 1137, 1165,\n",
       "       1193, 1221, 1249, 1277, 1305, 1333, 1361, 1389, 1417, 1445, 1473,\n",
       "       1501, 1529, 1557, 1585, 1613, 1641, 1669, 1697, 1725, 1753, 1781,\n",
       "       1808, 1836, 1864, 1892, 1920, 1948, 1976, 2004, 2032, 2060, 2088,\n",
       "       2116, 2144, 2172, 2200, 2228, 2256, 2284, 2312, 2340, 2368, 2396,\n",
       "       2424, 2452, 2479, 2507, 2535, 2563, 2591, 2619, 2647, 2675, 2703,\n",
       "       2731, 2759, 2787, 2815, 2843, 2871, 2899, 2927, 2955, 2983, 3011,\n",
       "       3039, 3067, 3099, 3132, 3165, 3197, 3230, 3263, 3296, 3328, 3361,\n",
       "       3394, 3427, 3460, 3492, 3525, 3558, 3591, 3623, 3656, 3689, 3722,\n",
       "       3754, 3787, 3820, 3853, 3885, 3918, 3951, 3984, 4017, 4049, 4082,\n",
       "       4115, 4148, 4180, 4213, 4246, 4279, 4311, 4344, 4377, 4410, 4442,\n",
       "       4475, 4508, 4541, 4574, 4606, 4639, 4672, 4705, 4737, 4770, 4803,\n",
       "       4836, 4868, 4901, 4934, 4967, 5000, 5032, 5065, 5098, 5131, 5163,\n",
       "       5196, 5229, 5262, 5294, 5327, 5360, 5393, 5425, 5458, 5491, 5524,\n",
       "       5557, 5589, 5622, 5655, 5688, 5720, 5753, 5786, 5819, 5851, 5884,\n",
       "       5917, 5950, 5982, 6015, 6048, 6081, 6114, 6146, 6179, 6212, 6245,\n",
       "       6277, 6310, 6343, 6376, 6408, 6441, 6474, 6507, 6539, 6572, 6605,\n",
       "       6638, 6671, 6703, 6736, 6769, 6802, 6834, 6867, 6900, 6933, 6965,\n",
       "       6998, 7031, 7064, 7096, 7129])"
      ]
     },
     "execution_count": 14,
     "metadata": {},
     "output_type": "execute_result"
    }
   ],
   "source": [
    "P_A"
   ]
  },
  {
   "cell_type": "code",
   "execution_count": 15,
   "metadata": {},
   "outputs": [
    {
     "data": {
      "text/plain": [
       "array([   0,    9,   19,   29,   39,   49,   77,  105,  134,  162,  191,\n",
       "        219,  248,  280,  312,  345,  377,  410,  442,  474,  507,  539,\n",
       "        571,  604,  636,  669,  701,  733,  766,  798,  830,  863,  895,\n",
       "        928,  960,  992, 1025, 1057, 1089, 1122, 1154, 1187, 1219, 1251,\n",
       "       1284, 1316, 1348, 1381, 1413, 1445, 1478, 1510, 1543, 1587, 1631,\n",
       "       1675, 1719, 1763, 1807, 1852, 1896, 1940, 1984, 2028, 2072, 2116,\n",
       "       2161, 2205, 2249, 2293, 2337, 2381, 2426, 2470, 2514, 2558, 2602,\n",
       "       2646, 2690, 2735, 2779, 2823, 2867, 2911, 2955, 2999, 3044, 3088,\n",
       "       3132, 3176, 3220, 3264, 3308, 3353, 3397, 3441, 3485, 3529, 3573,\n",
       "       3617, 3662, 3706, 3750, 3794, 3838, 3882, 3926, 3971, 4015, 4059,\n",
       "       4103, 4147, 4191, 4235, 4280, 4324, 4368, 4412, 4456, 4500, 4544,\n",
       "       4589, 4633, 4677, 4721, 4765, 4809, 4853, 4898, 4942, 4986, 5030,\n",
       "       5074, 5118, 5163, 5207, 5251, 5295, 5339, 5383, 5427, 5472, 5516,\n",
       "       5560, 5604, 5648, 5692, 5736, 5781, 5825, 5869, 5913, 5957, 6001,\n",
       "       6045, 6090, 6134, 6178, 6222, 6266, 6310, 6354, 6399, 6443, 6487,\n",
       "       6531, 6575, 6619, 6663, 6708, 6752, 6796, 6840, 6884, 6928, 6972,\n",
       "       7017, 7061, 7105, 7149, 7193, 7237, 7281, 7326, 7370, 7414, 7458,\n",
       "       7502, 7546, 7590, 7635, 7679, 7723, 7767, 7811, 7855, 7899, 7944,\n",
       "       7988, 8032, 8076, 8120, 8164, 8209, 8253, 8297, 8341, 8385, 8429,\n",
       "       8473, 8518, 8562, 8606, 8650, 8694, 8738, 8782, 8827, 8871, 8915,\n",
       "       8959, 9003, 9047, 9091, 9136, 9180, 9224, 9268, 9312, 9356, 9400,\n",
       "       9445, 9489, 9533, 9577, 9621])"
      ]
     },
     "execution_count": 15,
     "metadata": {},
     "output_type": "execute_result"
    }
   ],
   "source": [
    "P_B"
   ]
  },
  {
   "attachments": {},
   "cell_type": "markdown",
   "metadata": {},
   "source": [
    "## Calculating the geotherm\n",
    "Values and equations from\n",
    "https://agupubs.onlinelibrary.wiley.com/doi/epdf/10.1029/RG018i001p00269"
   ]
  },
  {
   "cell_type": "code",
   "execution_count": 16,
   "metadata": {},
   "outputs": [],
   "source": [
    "def calc_geotherm(z):\n",
    "    k_1 = 2.5 # Thermal conductivity of the crustal layer [W/mK] (assume constant)\n",
    "    k_2 = 3.4 # Thermal conductivity of the upper mantle\n",
    "    D = 10000 # Depth of upper crust producing radioactive heat [m]\n",
    "    T_0 = 273 # surface temperature [K]\n",
    "    Q_0 = 0.046 # Surface heat flow [W/m2]\n",
    "    Q_r = 0.025 # Nonradiogenic heat flow [W/m2]\n",
    "    A_0 = (Q_0 - Q_r)/D # Surface heat production [W/m3]\n",
    "    T = np.ones(len(z))\n",
    "    \n",
    "    # index of end of crustal layer\n",
    "    i = int(np.where(z==cc)[0])\n",
    "    \n",
    "    # temperature within the crust \n",
    "    for j, val in enumerate(z[:i]):\n",
    "        T[j] = T_0 + (Q_r*val)/k_1 + ((D**2*A_0)/k_1)*(1-np.exp(-val/D))\n",
    "    # temperature below the crust\n",
    "    for m, val in enumerate(z[i:]):\n",
    "        T[m+j+1] = T[j] + ((val-cc)/k_2)*Q_r\n",
    "    return T\n"
   ]
  },
  {
   "cell_type": "code",
   "execution_count": 17,
   "metadata": {},
   "outputs": [
    {
     "data": {
      "image/png": "[encoded data removed]",
      "text/plain": [
       "<Figure size 432x288 with 1 Axes>"
      ]
     },
     "metadata": {
      "needs_background": "light"
     },
     "output_type": "display_data"
    }
   ],
   "source": [
    "T = calc_geotherm(z)\n",
    "plt.figure(1)\n",
    "plt.plot(T-273,[-i/1000 for i in z])\n",
    "plt.xlabel('Temperature [C]')\n",
    "plt.ylabel('Depth [km]')\n",
    "plt.show()"
   ]
  },
  {
   "cell_type": "code",
   "execution_count": null,
   "metadata": {},
   "outputs": [],
   "source": []
  }
 ],
 "metadata": {
  "kernelspec": {
   "display_name": "Python 3",
   "language": "python",
   "name": "python3"
  },
  "language_info": {
   "codemirror_mode": {
    "name": "ipython",
    "version": 3
   },
   "file_extension": ".py",
   "mimetype": "text/x-python",
   "name": "python",
   "nbconvert_exporter": "python",
   "pygments_lexer": "ipython3",
   "version": "3.8.3"
  }
 },
 "nbformat": 4,
 "nbformat_minor": 4
}
