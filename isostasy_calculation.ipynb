{
 "cells": [
  {
   "cell_type": "code",
   "execution_count": 1,
   "metadata": {},
   "outputs": [],
   "source": [
    "import math\n",
    "import numpy as np\n",
    "import scipy.integrate as integrate\n",
    "import matplotlib.pyplot as plt"
   ]
  },
  {
   "cell_type": "markdown",
   "metadata": {},
   "source": [
    "### Assumptions"
   ]
  },
  {
   "cell_type": "code",
   "execution_count": 2,
   "metadata": {},
   "outputs": [],
   "source": [
    "rho_w = 1000 # density of water [kg/m^3]\n",
    "\n",
    "rho_cc = 2850 # density of continental crust [kg/m^3]\n",
    "rho_cm = 3338 # density of continental lithospheric mantle [kg/m^3]\n",
    "cc = 35000 # thickness of continental crust layer \n",
    "cm = 200000 # thickness of continental  mantle\n",
    "\n",
    "rho_oc = 2900 # density of oceanic crust\n",
    "rho_om = 3300 # density of depleted oceanic lithospheric mantle\n",
    "oc = 7000 # thickness of oceanic crust layer \n",
    "om = 50000 # thickness of depleted oceanic lithospheric mantle\n",
    "\n",
    "rho_m = 3300 # density of asthenospheric mantle\n",
    "compensation_depth = cc + cm # compensation depth\n",
    "\n",
    "g = 9.81\n",
    "\n",
    "initial_depth = 0\n",
    "depth_increment = 1000\n",
    "final_depth = compensation_depth+depth_increment\n",
    "z = np.array(range(initial_depth,final_depth,depth_increment))"
   ]
  },
  {
   "cell_type": "markdown",
   "metadata": {},
   "source": [
    "### Isostatic balance equation\n",
    "Isostatic balance equation (assume sea level = 0):\n",
    "\n",
    "$$\\rho_w w_B + \\rho_{oc} d_{oc} + \\rho_{om} d_{om} + \\rho_m d_m = \\rho_w w_A + \\rho_{cc} d_{cc} + \\rho_{cm} d_{cm}$$\n",
    "\n",
    "- $\\rho_i$ is the density of water, oceanic crust, (depleted) oceanic mantle, (asthenospheric) mantle, continental crust, etc.\n",
    "- $d_i$ is the thickness of the oceanic crust, continental crust, etc.\n",
    "- $w_B$ is the thickness of the water layer above the oceanic lithosphere\n",
    "- $w_A$ is the thickness of the water layer above the continental lithosphere.\n",
    "\n",
    "\n",
    "where the compensation depth is taken as the base of the continental lithospheric mantle, which determines the depth of the asthenospheric mantle ($d_m$).\n",
    "\n",
    "Assuming $w_A = 0$:\n",
    "\n",
    "$$\\rho_w w_B + \\rho_{oc} d_{oc} + \\rho_{om} d_{om} + \\rho_m d_m = \\rho_{cc} d_{cc} + \\rho_{cm} d_{cm}$$\n",
    "\n",
    "Since we have two unknowns ($d_m$ and $w_B$), we use the equation:\n",
    "\n",
    "$$d_{cc}+d_{cm} = w_B + d_{oc} + d_{om} + d_m$$\n",
    "\n",
    "solving for $w_B$:\n",
    "$$w_B = d_{cc} + d_{cm} - d_{om} - d_m - d_{oc}$$\n",
    "\n",
    "substituting into the isostatic balance equation:\n",
    "\n",
    "$$\\rho_w(d_{cc} + d_{cm} - d_{om} - d_m - d_{oc}) + \\rho_{oc} d_{oc} + \\rho_{om} d_{om} + \\rho_m d_m = \\rho_{cc} d_{cc} + \\rho_{cm} d_{cm}$$\n",
    "\n",
    "solving for $d_m$:\n",
    "$$d_m = \\frac{d_{cc}(\\rho_{cc} - \\rho_w) + d_{cm}(\\rho_{cm} - \\rho_w) + d_{om}(\\rho_w - \\rho_{om}) + d_{oc}(\\rho_w - \\rho_{oc})}{\\rho_m -\\rho_w}$$"
   ]
  },
  {
   "cell_type": "code",
   "execution_count": 3,
   "metadata": {},
   "outputs": [
    {
     "name": "stdout",
     "output_type": "stream",
     "text": [
      "Thickness of the asthenospheric mantle layer under the oceanic lithosphere: 176 km\n"
     ]
    }
   ],
   "source": [
    "# assuming continental crustal thickness of 35 km\n",
    "m = (cc*(rho_cc-rho_w)+cm*(rho_cm-rho_w)+om*(rho_w-rho_om)+oc*(rho_w-rho_oc))\\\n",
    "/(rho_m-rho_w)\n",
    "print(\"Thickness of the asthenospheric mantle layer under the oceanic lithosphere: %.0f km\"% (m/1000))"
   ]
  },
  {
   "cell_type": "markdown",
   "metadata": {},
   "source": [
    "now solving for $w_B$:"
   ]
  },
  {
   "cell_type": "code",
   "execution_count": 4,
   "metadata": {},
   "outputs": [
    {
     "name": "stdout",
     "output_type": "stream",
     "text": [
      "Depth of the water layer above the oceanic lithosphere: 2 km\n"
     ]
    }
   ],
   "source": [
    "w_B = cc + cm - om - m - oc\n",
    "print(\"Depth of the water layer above the oceanic lithosphere: %.0f km\"% (w_B/1000))"
   ]
  },
  {
   "cell_type": "markdown",
   "metadata": {},
   "source": [
    "checking that this is indeed equal to the continental lithospheric layer:"
   ]
  },
  {
   "cell_type": "code",
   "execution_count": 5,
   "metadata": {},
   "outputs": [
    {
     "name": "stdout",
     "output_type": "stream",
     "text": [
      "Oceanic lithosphere: 235 km\n",
      "Continental lithosphere: 235 km\n"
     ]
    }
   ],
   "source": [
    "print(\"Oceanic lithosphere: %i km\"%((w_B+oc+om+m)/1000))\n",
    "print(\"Continental lithosphere: %i km\"%((cm+cc)/1000))"
   ]
  },
  {
   "cell_type": "markdown",
   "metadata": {},
   "source": [
    "### Calculating the lithostatic pressure\n",
    "$$P = \\int_{a}^{b} \\rho(z) g dz$$\n",
    "\n",
    "#### Continental lithosphere"
   ]
  },
  {
   "cell_type": "code",
   "execution_count": 6,
   "metadata": {},
   "outputs": [],
   "source": [
    "def calc_pressure_continent(z, w, cc):\n",
    "    \"\"\"\n",
    "    Calculates the lithostatic pressure of the  continental lithosphere\n",
    "    given the depth (z), water layer above (w), and thickness\n",
    "    of the continental crust (cc)\n",
    "    \"\"\"\n",
    "    P = np.array([0]*len(z))\n",
    "    for i, val in enumerate(z):\n",
    "        if abs(val) <= w:\n",
    "            # integrate the density over the water layer\n",
    "            y, err = integrate.quad(lambda z: rho_w*g,0,val)\n",
    "        elif w < abs(val) <= w + cc:\n",
    "            # integrate the density over the crustal layer,\n",
    "            # plus the total pressure from the water layer\n",
    "            y, err = integrate.quad(lambda z: rho_cc*g,w,val)\n",
    "            y+= rho_w*g*w\n",
    "        elif w + cc <= abs(val) <= w + cc + cm:\n",
    "            # integrate the density over the continental lithospheric mantle layer,\n",
    "            # plus the total pressure from the water + crustal layer\n",
    "            y, err = integrate.quad(lambda z: rho_cm*g,w+cc,val)\n",
    "            y+= rho_w*g*w + rho_cc*g*cc\n",
    "        else:\n",
    "            # integrate the density over the mantle layer,\n",
    "            # plus the total pressure from the water + crustal + cm layer\n",
    "            y, err = integrate.quad(lambda z: rho_m*g,w+cc+cm,val)\n",
    "            y+= rho_w*g*w + rho_cc*g*cc + rho_cm*g*cm\n",
    "        P[i] = y/1e6\n",
    "    return P"
   ]
  },
  {
   "cell_type": "markdown",
   "metadata": {},
   "source": [
    "#### Oceanic lithosphere"
   ]
  },
  {
   "cell_type": "code",
   "execution_count": 7,
   "metadata": {},
   "outputs": [],
   "source": [
    "def calc_pressure_ocean(z, w, oc):\n",
    "    \"\"\"\n",
    "    Calculates the lithostatic pressure of the  oceanic lithosphere\n",
    "    given the depth (z), water layer above (w), and thickness\n",
    "    of the oceanic crust (oc)\n",
    "    \"\"\"\n",
    "    P = np.array([0]*len(z))\n",
    "    for i, val in enumerate(z):\n",
    "        if abs(val) <= w:\n",
    "            y, err = integrate.quad(lambda z: rho_w*g,0,val)\n",
    "        elif w < abs(val) <= w+oc:\n",
    "            y, err = integrate.quad(lambda z: rho_oc*g,w,val)\n",
    "            y+= rho_w*g*w\n",
    "        elif w+oc < abs(val) <= w+oc+om:\n",
    "            y, err = integrate.quad(lambda z: rho_om*g,w+oc,val)\n",
    "            y+= rho_w*g*w + rho_oc*g*oc\n",
    "        else:\n",
    "            y, err = integrate.quad(lambda z: rho_m*g,w+om+oc,val)\n",
    "            y+= rho_w*g*w + rho_oc*g*oc + rho_om*g*om\n",
    "        P[i] = y/1e6\n",
    "    return P"
   ]
  },
  {
   "cell_type": "code",
   "execution_count": 8,
   "metadata": {},
   "outputs": [
    {
     "data": {
      "text/plain": [
       "<Figure size 432x288 with 0 Axes>"
      ]
     },
     "metadata": {},
     "output_type": "display_data"
    },
    {
     "data": {
      "image/png": "[encoded data removed]",
      "text/plain": [
       "<Figure size 360x504 with 1 Axes>"
      ]
     },
     "metadata": {
      "needs_background": "light"
     },
     "output_type": "display_data"
    },
    {
     "name": "stdout",
     "output_type": "stream",
     "text": [
      "Maximum pressure difference: 42 MPa\n",
      "Blue: oceanic lithosphere\n",
      "Red: continental lithosphere\n"
     ]
    }
   ],
   "source": [
    "# assuming that continents are at sea level\n",
    "w_A = 0\n",
    "P_A = calc_pressure_continent(z, w_A, cc)\n",
    "P_B = calc_pressure_ocean(z, w_B, oc)\n",
    "\n",
    "plt.figure(1)\n",
    "plt.figure(figsize=(5,7))\n",
    "plt.plot(P_B,[-i/1000 for i in z],'b-')\n",
    "plt.plot(P_A,[-i/1000 for i in z],'r-')\n",
    "plt.plot(P_A-P_B,[-i/1000 for i in z],'k--')\n",
    "plt.ylim((-25,0))\n",
    "plt.xlim((0,600))\n",
    "plt.title('First 25 km')\n",
    "plt.xlabel('Lithostatic pressure [MPa]')\n",
    "plt.ylabel('Depth [km]')\n",
    "plt.show()\n",
    "print(\"Maximum pressure difference: %i MPa\"%max(P_A-P_B))\n",
    "print(\"Blue: oceanic lithosphere\\nRed: continental lithosphere\")"
   ]
  },
  {
   "cell_type": "code",
   "execution_count": 9,
   "metadata": {},
   "outputs": [
    {
     "data": {
      "text/plain": [
       "<Figure size 432x288 with 0 Axes>"
      ]
     },
     "metadata": {},
     "output_type": "display_data"
    },
    {
     "data": {
      "image/png": "[encoded data removed]",
      "text/plain": [
       "<Figure size 360x504 with 1 Axes>"
      ]
     },
     "metadata": {
      "needs_background": "light"
     },
     "output_type": "display_data"
    },
    {
     "name": "stdout",
     "output_type": "stream",
     "text": [
      "Maximum pressure difference: 75 MPa\n"
     ]
    }
   ],
   "source": [
    "plt.figure(2)\n",
    "plt.figure(figsize=(5,7))\n",
    "plt.plot(P_B,[-i/1000 for i in z],'b-')\n",
    "plt.plot(P_A,[-i/1000 for i in z],'r-')\n",
    "plt.ylim((-220,-20))\n",
    "plt.xlim((0,7100))\n",
    "plt.title('Below 20 km')\n",
    "plt.xlabel('Lithostatic pressure [MPa]')\n",
    "plt.ylabel('Depth [km]')\n",
    "plt.show()\n",
    "print(\"Maximum pressure difference: %i MPa\"%max(P_B-P_A))"
   ]
  },
  {
   "cell_type": "markdown",
   "metadata": {},
   "source": [
    "#### Varying the thickness of the continental crust\n",
    "\n",
    "Trying $d_{cc}$ = 30, 40, 50 km"
   ]
  },
  {
   "cell_type": "code",
   "execution_count": 10,
   "metadata": {},
   "outputs": [
    {
     "data": {
      "text/plain": [
       "<Figure size 432x288 with 0 Axes>"
      ]
     },
     "metadata": {},
     "output_type": "display_data"
    },
    {
     "data": {
      "image/png": "[encoded data removed]",
      "text/plain": [
       "<Figure size 360x504 with 1 Axes>"
      ]
     },
     "metadata": {
      "needs_background": "light"
     },
     "output_type": "display_data"
    }
   ],
   "source": [
    "cc_range = list(range(30000,60000,10000))\n",
    "plt.figure(3)\n",
    "plt.figure(figsize=(5,7))\n",
    "plt.plot(P_B,[-i/1000 for i in z],'b-')\n",
    "for i in cc_range:\n",
    "        P = calc_pressure_continent(z, w_A, i)\n",
    "        plt.plot(P,[-j/1000 for j in z])\n",
    "plt.xlabel('Lithostatic pressure [MPa]')\n",
    "plt.ylabel('Depth [km]')\n",
    "plt.show()"
   ]
  },
  {
   "cell_type": "markdown",
   "metadata": {},
   "source": [
    "### Calculating the geotherm\n",
    "Starting with the heat equation\n",
    "$$0 = k\\frac{d^2T}{dz^2}+\\rho H$$\n",
    "\n",
    "where $H$ is rate of internal heat production ($W/m^3$). Using the radiogenic heat production of the average continental crust as $H = 1\\times10^{-6}$ $W/m^3$\n",
    "\n",
    "Integrate to get:\n",
    "$$C = k\\frac{dT}{dz}+\\rho Hz$$\n",
    "\n",
    "Integrate again:\n",
    "$$D+Cz = kT + \\frac{1}{2}\\rho Hz^2$$\n",
    "\n",
    "$$T = \\frac{Cz}{k}-\\frac{1}{2k}\\rho Hz^2 + D$$\n",
    "\n",
    "From the boundary condition that $T(z=0) = 0$, we have $D = 0$. The temperature gradient within the continental crust is:\n",
    "\n",
    "$$T_1 = \\frac{C_1}{k_1}z-\\frac{1}{2k_1}\\rho Hz^2$$\n",
    "\n",
    "where $C_1$ is the surface heat flow (from boundary condition $z = 0$)"
   ]
  },
  {
   "cell_type": "markdown",
   "metadata": {},
   "source": [
    "The temperature at the base of the continental lithosphere is:\n",
    "$$T_m = T_p + 240\\left(\\frac{\\partial T}{\\partial z}\\right)$$"
   ]
  },
  {
   "cell_type": "markdown",
   "metadata": {},
   "source": [
    "where the temperature potential of the mantle $T_p$ is $\\sim 1350^{\\circ}$C (now) and $1600^{\\circ}$C (Archean)\n",
    "\n",
    "We assume that the adiabatic gradient $\\left(\\frac{\\partial T}{\\partial z}\\right) \\sim 0.5$ K/km\n",
    "\n",
    "Thus, $T_m \\sim 1470^{\\circ}$C (now) and $\\sim 1720^{\\circ}$C (Archean)"
   ]
  },
  {
   "cell_type": "code",
   "execution_count": 11,
   "metadata": {},
   "outputs": [
    {
     "name": "stdout",
     "output_type": "stream",
     "text": [
      "Assuming continental crustal thickness of 35 [km]\n",
      "Mantle temperature: 1467 [C]\n",
      "Archean mantle temperature: 1717 [C]\n"
     ]
    }
   ],
   "source": [
    "T_p = 1350\n",
    "T_p_archean = 1600\n",
    "dT_dz = 0.5\n",
    "T_m = T_p + (cc+cm)/1000*dT_dz\n",
    "T_m_archean = T_p_archean + (cc+cm)/1000*dT_dz\n",
    "print(\"Assuming continental crustal thickness of %i [km]\"%(cc/1000))\n",
    "print(\"Mantle temperature: %i [C]\"%T_m)\n",
    "print(\"Archean mantle temperature: %i [C]\"%T_m_archean)"
   ]
  },
  {
   "cell_type": "markdown",
   "metadata": {},
   "source": [
    "The temperature gradient below the continental crust is:\n",
    "$$T_2 = \\frac{C_2}{k_2}z_2+D_2$$\n",
    "\n",
    "We have three unknowns ($C_1$, $C_2$, $D_2$) and three boundary conditions.\n",
    "\n",
    "At z = 40 km, we require that:\n",
    "$$T_1 = T_2$$\n",
    "\n",
    "$$\\frac{dT_1}{dz} = \\frac{dT_2}{dz}$$\n",
    "\n",
    "at z = 240 km, we have:\n",
    "$$T_2 = T_m$$"
   ]
  },
  {
   "cell_type": "markdown",
   "metadata": {},
   "source": [
    "1) Using $\\frac{dT_1}{dz} = \\frac{dT_2}{dz}$:\n",
    "\n",
    "$$\\frac{C_1}{k_1}-\\frac{\\rho H}{k_1}z\\Bigg\\vert_{z = z_1} = \\frac{C_2}{k_2}\\Bigg\\vert_{z=z_1}$$\n",
    "\n",
    "$$\\frac{1}{k_1}(C_1-\\rho Hz_1) = \\frac{1}{k_2}C_2$$\n",
    "\n",
    "2) Using $T_1 = T_2$:\n",
    "$$\\frac{C_1}{k_1}z_1 - \\frac{1}{2k_1}\\rho Hz_1^2 = \\frac{C_2}{k_2}z_1 + D_2$$\n",
    "\n",
    "3) Using $T_2 = T_m$:\n",
    "$$\\frac{C_2}{k_2}z_2 + D_2 = T_m$$\n",
    "\n",
    "where $z_1 = d_{cc}$ and $z_2 = d_{cc}+d_{cm}$"
   ]
  },
  {
   "cell_type": "markdown",
   "metadata": {},
   "source": [
    "Combining (2) and (3):\n",
    "$$D_2 = T_m - \\frac{C_2}{k_2}z_2$$\n",
    "\n",
    "$$\\frac{C_1}{k_1}z_1 - \\frac{1}{2k_1}\\rho Hz_1^2 = \\frac{C_2}{k_2}z_1 + T_m - \\frac{C_2}{k_2}z_2$$\n",
    "\n",
    "Writing $C_1$ in terms of $C_2$:\n",
    "$$C_1 = \\frac{C_2k_1}{k_2} - \\frac{C_2k_1}{k_2}\\frac{z_2}{z_1} + \\frac{T_mk_1}{z_1} + \\frac{1}{2}\\rho Hz_1$$\n",
    "\n",
    "Solving for $C_2$ in (1):\n",
    "$$\\frac{1}{k_1}\\left(\\frac{C_2k_1}{k_2} - \\frac{C_2k_1}{k_2}\\frac{z_2}{z_1} + \\frac{T_mk_1}{z_1} + \\frac{1}{2}\\rho Hz_1-\\rho Hz_1\\right) = \\frac{1}{k_2}C_2$$\n",
    "\n",
    "$$- C_2\\frac{z_2}{z_1}  =\\frac{1}{2}\\frac{k_2}{k_1}\\rho Hz_1- k_2\\frac{T_m}{z_1}$$\n",
    "\n",
    "$$C_2\\left(- \\frac{z_2}{z_1}\\right)  =\\frac{1}{2}\\frac{k_2}{k_1}\\rho Hz_1- k_2\\frac{T_m}{z_1}$$\n",
    "\n",
    "$$C_2 =\\frac{k_2T_m-\\frac{1}{2}\\frac{k_2}{k_1}\\rho Hz_1^2 }{z_2}$$"
   ]
  },
  {
   "cell_type": "code",
   "execution_count": 12,
   "metadata": {},
   "outputs": [
    {
     "name": "stdout",
     "output_type": "stream",
     "text": [
      "C_2 = -7.41\n"
     ]
    }
   ],
   "source": [
    "k_1 = 3.0 # Thermal conductivity of the crustal layer [W/mK] (assume constant)\n",
    "k_2 = 3.0 # Thermal conductivity of the upper mantle\n",
    "H = 1*10**(-6) # radiogenic heat production of the average continental crust [W/m^3]\n",
    "C_2 = (k_2*T_m-(1/2)*(k_2/k_1)*rho_cc*H*cc**2)/(cc+cm)\n",
    "print(\"C_2 = %.2f\"%C_2)"
   ]
  },
  {
   "cell_type": "markdown",
   "metadata": {},
   "source": [
    "calculating $C_1$ from $C_2$:\n",
    "$$C_1 = \\frac{C_2k_1}{k_2} - \\frac{C_2k_1}{k_2}\\frac{z_2}{z_1} + \\frac{T_mk_1}{z_1} + \\frac{1}{2}\\rho Hz_1$$"
   ]
  },
  {
   "cell_type": "code",
   "execution_count": 13,
   "metadata": {},
   "outputs": [
    {
     "name": "stdout",
     "output_type": "stream",
     "text": [
      "C_1 = 191.84\n"
     ]
    }
   ],
   "source": [
    "C_1 = (C_2*k_1)/k_2 - (C_2*k_1*(cc+cm))/cc + (T_m*k_1)/cc + (1/2)*rho_cc*H*cc\n",
    "print(\"C_1 = %.2f\"%C_1)"
   ]
  },
  {
   "cell_type": "markdown",
   "metadata": {},
   "source": [
    "calculating $D$ from $C_2$:\n",
    "$$D_2 = T_m - \\frac{C_2}{k_2}z_2$$"
   ]
  },
  {
   "cell_type": "code",
   "execution_count": 14,
   "metadata": {},
   "outputs": [
    {
     "name": "stdout",
     "output_type": "stream",
     "text": [
      "D_2 = 581875.00\n"
     ]
    }
   ],
   "source": [
    "D_2 = T_m-(C_2*(cc+cm))/k_2\n",
    "print(\"D_2 = %.2f\"%D_2)"
   ]
  },
  {
   "cell_type": "markdown",
   "metadata": {},
   "source": [
    "* These numbers look a bit weird, check units?\n",
    "* $\\rho$ depends on depth $\\rho(z)$?"
   ]
  },
  {
   "cell_type": "code",
   "execution_count": 15,
   "metadata": {},
   "outputs": [],
   "source": [
    "def calc_geotherm(z):\n",
    "    \"\"\"\n",
    "    Calculates the geothermal gradient up to depth (z),\n",
    "    (for now) assuming that thermal conductivity is constant\n",
    "    and that values for the crust and mantle are both k = 3.0\n",
    "    \"\"\"\n",
    "    T = np.ones(len(z))\n",
    "    T_0 = 273 # surface temperature [K]\n",
    "    \n",
    "    # index of end of crustal layer\n",
    "    i = int(np.where(z==cc)[0])\n",
    "    \n",
    "    # temperature within the crust \n",
    "    for j, val in enumerate(z[:i]):\n",
    "        T[j] = T_0 + (C_1*val)/k_1 - ((rho_cc*H*val**2)/(2*k_1))\n",
    "    # temperature below the crust\n",
    "    for m, val in enumerate(z[i:]):\n",
    "        T[m+j+1] = T[j] + ((val-cc)/k_2)*C_2+D_2\n",
    "    return T"
   ]
  },
  {
   "cell_type": "code",
   "execution_count": 16,
   "metadata": {},
   "outputs": [
    {
     "data": {
      "text/plain": [
       "<Figure size 432x288 with 0 Axes>"
      ]
     },
     "metadata": {},
     "output_type": "display_data"
    },
    {
     "data": {
      "image/png": "[encoded data removed]",
      "text/plain": [
       "<Figure size 360x504 with 1 Axes>"
      ]
     },
     "metadata": {
      "needs_background": "light"
     },
     "output_type": "display_data"
    }
   ],
   "source": [
    "T = calc_geotherm(z)\n",
    "plt.figure(4)\n",
    "plt.figure(figsize=(5,7))\n",
    "plt.plot(T-273,[-i/1000 for i in z])\n",
    "plt.xlabel('Temperature [C]')\n",
    "plt.ylabel('Depth [km]')\n",
    "plt.show()"
   ]
  },
  {
   "cell_type": "markdown",
   "metadata": {},
   "source": [
    "something's wrong "
   ]
  },
  {
   "cell_type": "code",
   "execution_count": null,
   "metadata": {},
   "outputs": [],
   "source": []
  }
 ],
 "metadata": {
  "kernelspec": {
   "display_name": "Python 3",
   "language": "python",
   "name": "python3"
  },
  "language_info": {
   "codemirror_mode": {
    "name": "ipython",
    "version": 3
   },
   "file_extension": ".py",
   "mimetype": "text/x-python",
   "name": "python",
   "nbconvert_exporter": "python",
   "pygments_lexer": "ipython3",
   "version": "3.8.3"
  }
 },
 "nbformat": 4,
 "nbformat_minor": 4
}
